{
 "cells": [
  {
   "cell_type": "code",
   "execution_count": 4,
   "metadata": {},
   "outputs": [],
   "source": [
    "import pandas as pd\n",
    "\n",
    "julijske_alpe = pd.read_csv('podatki/julijske_alpe/A_julijske_alpe.csv')\n",
    "karavanke = pd.read_csv('podatki/karavanke/A_karavanke.csv')\n",
    "kamn_sav_alpe = pd.read_csv('podatki/kamn_sav_alpe/A_kamn_sav_alpe.csv')"
   ]
  },
  {
   "cell_type": "code",
   "execution_count": null,
   "metadata": {},
   "outputs": [],
   "source": []
  }
 ],
 "metadata": {
  "kernelspec": {
   "display_name": "Python 3.10.7 64-bit",
   "language": "python",
   "name": "python3"
  },
  "language_info": {
   "codemirror_mode": {
    "name": "ipython",
    "version": 3
   },
   "file_extension": ".py",
   "mimetype": "text/x-python",
   "name": "python",
   "nbconvert_exporter": "python",
   "pygments_lexer": "ipython3",
   "version": "3.10.7"
  },
  "orig_nbformat": 4,
  "vscode": {
   "interpreter": {
    "hash": "fb3f3a0588179851734d258eabbae11e67bc382c585d04f642f834084f25dfdf"
   }
  }
 },
 "nbformat": 4,
 "nbformat_minor": 2
}
