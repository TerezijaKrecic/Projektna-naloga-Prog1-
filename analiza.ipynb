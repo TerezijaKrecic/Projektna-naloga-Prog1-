{
 "cells": [
  {
   "attachments": {},
   "cell_type": "markdown",
   "metadata": {},
   "source": [
    "## **Analiza podatkov o gorah v slovenskih Alpah**"
   ]
  },
  {
   "cell_type": "code",
   "execution_count": 1,
   "metadata": {},
   "outputs": [],
   "source": [
    "import pandas as pd"
   ]
  },
  {
   "attachments": {},
   "cell_type": "markdown",
   "metadata": {},
   "source": [
    "Uvozimo vse tri tabele s podatki o gorah, izhodišča ter vrste (vrh/bivak/koča ...):"
   ]
  },
  {
   "cell_type": "code",
   "execution_count": 2,
   "metadata": {},
   "outputs": [],
   "source": [
    "julijske_alpe = pd.read_csv('podatki/julijske_alpe/A_julijske_alpe.csv')\n",
    "karavanke = pd.read_csv('podatki/karavanke/A_karavanke.csv')\n",
    "kamn_sav_alpe = pd.read_csv('podatki/kamn_sav_alpe/A_kamn_sav_alpe.csv')\n",
    "izhodisca = pd.read_csv('podatki/izhodisca.csv')\n",
    "vrsta = pd.read_csv('podatki/vrsta.csv')"
   ]
  },
  {
   "attachments": {},
   "cell_type": "markdown",
   "metadata": {},
   "source": [
    "Združimo vse tri tabele z gorami v eno samo (priljubljenost je v %, čas pa v minutah). V analizi bomo na vse lokacije gledali kot na vrhove, gore (čeprav so nekatere od njih cerkve, jezera itd.), na koncu pa se bomo res osredotočili le na vrhove."
   ]
  },
  {
   "cell_type": "code",
   "execution_count": 3,
   "metadata": {},
   "outputs": [],
   "source": [
    "alpe = pd.concat([julijske_alpe, karavanke, kamn_sav_alpe], ignore_index=True)"
   ]
  },
  {
   "cell_type": "code",
   "execution_count": 4,
   "metadata": {},
   "outputs": [
    {
     "data": {
      "text/html": [
       "<div>\n",
       "<style scoped>\n",
       "    .dataframe tbody tr th:only-of-type {\n",
       "        vertical-align: middle;\n",
       "    }\n",
       "\n",
       "    .dataframe tbody tr th {\n",
       "        vertical-align: top;\n",
       "    }\n",
       "\n",
       "    .dataframe thead th {\n",
       "        text-align: right;\n",
       "    }\n",
       "</style>\n",
       "<table border=\"1\" class=\"dataframe\">\n",
       "  <thead>\n",
       "    <tr style=\"text-align: right;\">\n",
       "      <th></th>\n",
       "      <th>id</th>\n",
       "      <th>ime</th>\n",
       "      <th>gorovje</th>\n",
       "      <th>visina</th>\n",
       "      <th>priljubljenost</th>\n",
       "      <th>koordinate</th>\n",
       "    </tr>\n",
       "  </thead>\n",
       "  <tbody>\n",
       "    <tr>\n",
       "      <th>0</th>\n",
       "      <td>111</td>\n",
       "      <td>Triglav</td>\n",
       "      <td>Julijske Alpe</td>\n",
       "      <td>2864</td>\n",
       "      <td>100</td>\n",
       "      <td>46,37832°N 13,83648°E</td>\n",
       "    </tr>\n",
       "    <tr>\n",
       "      <th>1</th>\n",
       "      <td>112</td>\n",
       "      <td>Škrlatica</td>\n",
       "      <td>Julijske Alpe</td>\n",
       "      <td>2740</td>\n",
       "      <td>99</td>\n",
       "      <td>46,43277°N 13,82114°E</td>\n",
       "    </tr>\n",
       "    <tr>\n",
       "      <th>2</th>\n",
       "      <td>113</td>\n",
       "      <td>Mali Triglav</td>\n",
       "      <td>Julijske Alpe</td>\n",
       "      <td>2725</td>\n",
       "      <td>92</td>\n",
       "      <td>46,37683°N 13,84315°E</td>\n",
       "    </tr>\n",
       "    <tr>\n",
       "      <th>3</th>\n",
       "      <td>115</td>\n",
       "      <td>Visoki Rokav</td>\n",
       "      <td>Julijske Alpe</td>\n",
       "      <td>2646</td>\n",
       "      <td>91</td>\n",
       "      <td>46,43547°N 13,8283°E</td>\n",
       "    </tr>\n",
       "    <tr>\n",
       "      <th>4</th>\n",
       "      <td>116</td>\n",
       "      <td>Jalovec</td>\n",
       "      <td>Julijske Alpe</td>\n",
       "      <td>2645</td>\n",
       "      <td>99</td>\n",
       "      <td>46,42154°N 13,68002°E</td>\n",
       "    </tr>\n",
       "    <tr>\n",
       "      <th>...</th>\n",
       "      <td>...</td>\n",
       "      <td>...</td>\n",
       "      <td>...</td>\n",
       "      <td>...</td>\n",
       "      <td>...</td>\n",
       "      <td>...</td>\n",
       "    </tr>\n",
       "    <tr>\n",
       "      <th>1000</th>\n",
       "      <td>332328</td>\n",
       "      <td>Šobčev bajer</td>\n",
       "      <td>Kamniško Savinjske Alpe</td>\n",
       "      <td>426</td>\n",
       "      <td>71</td>\n",
       "      <td>46,3538°N 14,1509°E</td>\n",
       "    </tr>\n",
       "    <tr>\n",
       "      <th>1001</th>\n",
       "      <td>333113</td>\n",
       "      <td>Turistična kmetija Trnovc</td>\n",
       "      <td>Kamniško Savinjske Alpe</td>\n",
       "      <td>412</td>\n",
       "      <td>19</td>\n",
       "      <td>46,3035°N 14,2864°E</td>\n",
       "    </tr>\n",
       "    <tr>\n",
       "      <th>1002</th>\n",
       "      <td>331678</td>\n",
       "      <td>Grad Žovnek</td>\n",
       "      <td>Kamniško Savinjske Alpe</td>\n",
       "      <td>409</td>\n",
       "      <td>69</td>\n",
       "      <td>46,2763°N 15,0041°E</td>\n",
       "    </tr>\n",
       "    <tr>\n",
       "      <th>1003</th>\n",
       "      <td>332827</td>\n",
       "      <td>Šoštanj</td>\n",
       "      <td>Kamniško Savinjske Alpe</td>\n",
       "      <td>358</td>\n",
       "      <td>26</td>\n",
       "      <td>46,3774°N 15,0485°E</td>\n",
       "    </tr>\n",
       "    <tr>\n",
       "      <th>1004</th>\n",
       "      <td>332451</td>\n",
       "      <td>Planinski dom Milana Šinkovca</td>\n",
       "      <td>Kamniško Savinjske Alpe</td>\n",
       "      <td>345</td>\n",
       "      <td>31</td>\n",
       "      <td>46,2134°N 14,5399°E</td>\n",
       "    </tr>\n",
       "  </tbody>\n",
       "</table>\n",
       "<p>1005 rows × 6 columns</p>\n",
       "</div>"
      ],
      "text/plain": [
       "          id                            ime                  gorovje  visina  \\\n",
       "0        111                        Triglav            Julijske Alpe    2864   \n",
       "1        112                      Škrlatica            Julijske Alpe    2740   \n",
       "2        113                   Mali Triglav            Julijske Alpe    2725   \n",
       "3        115                   Visoki Rokav            Julijske Alpe    2646   \n",
       "4        116                        Jalovec            Julijske Alpe    2645   \n",
       "...      ...                            ...                      ...     ...   \n",
       "1000  332328                   Šobčev bajer  Kamniško Savinjske Alpe     426   \n",
       "1001  333113      Turistična kmetija Trnovc  Kamniško Savinjske Alpe     412   \n",
       "1002  331678                    Grad Žovnek  Kamniško Savinjske Alpe     409   \n",
       "1003  332827                        Šoštanj  Kamniško Savinjske Alpe     358   \n",
       "1004  332451  Planinski dom Milana Šinkovca  Kamniško Savinjske Alpe     345   \n",
       "\n",
       "      priljubljenost             koordinate  \n",
       "0                100  46,37832°N 13,83648°E  \n",
       "1                 99  46,43277°N 13,82114°E  \n",
       "2                 92  46,37683°N 13,84315°E  \n",
       "3                 91   46,43547°N 13,8283°E  \n",
       "4                 99  46,42154°N 13,68002°E  \n",
       "...              ...                    ...  \n",
       "1000              71    46,3538°N 14,1509°E  \n",
       "1001              19    46,3035°N 14,2864°E  \n",
       "1002              69    46,2763°N 15,0041°E  \n",
       "1003              26    46,3774°N 15,0485°E  \n",
       "1004              31    46,2134°N 14,5399°E  \n",
       "\n",
       "[1005 rows x 6 columns]"
      ]
     },
     "execution_count": 4,
     "metadata": {},
     "output_type": "execute_result"
    }
   ],
   "source": [
    "alpe"
   ]
  },
  {
   "cell_type": "code",
   "execution_count": 5,
   "metadata": {},
   "outputs": [
    {
     "data": {
      "text/html": [
       "<div>\n",
       "<style scoped>\n",
       "    .dataframe tbody tr th:only-of-type {\n",
       "        vertical-align: middle;\n",
       "    }\n",
       "\n",
       "    .dataframe tbody tr th {\n",
       "        vertical-align: top;\n",
       "    }\n",
       "\n",
       "    .dataframe thead th {\n",
       "        text-align: right;\n",
       "    }\n",
       "</style>\n",
       "<table border=\"1\" class=\"dataframe\">\n",
       "  <thead>\n",
       "    <tr style=\"text-align: right;\">\n",
       "      <th></th>\n",
       "      <th>id</th>\n",
       "      <th>vrsta</th>\n",
       "    </tr>\n",
       "  </thead>\n",
       "  <tbody>\n",
       "    <tr>\n",
       "      <th>0</th>\n",
       "      <td>111</td>\n",
       "      <td>vrh</td>\n",
       "    </tr>\n",
       "    <tr>\n",
       "      <th>1</th>\n",
       "      <td>111</td>\n",
       "      <td>bivak</td>\n",
       "    </tr>\n",
       "    <tr>\n",
       "      <th>2</th>\n",
       "      <td>112</td>\n",
       "      <td>vrh</td>\n",
       "    </tr>\n",
       "    <tr>\n",
       "      <th>3</th>\n",
       "      <td>113</td>\n",
       "      <td>vrh</td>\n",
       "    </tr>\n",
       "    <tr>\n",
       "      <th>4</th>\n",
       "      <td>115</td>\n",
       "      <td>vrh</td>\n",
       "    </tr>\n",
       "    <tr>\n",
       "      <th>...</th>\n",
       "      <td>...</td>\n",
       "      <td>...</td>\n",
       "    </tr>\n",
       "    <tr>\n",
       "      <th>1123</th>\n",
       "      <td>332760</td>\n",
       "      <td>jezero</td>\n",
       "    </tr>\n",
       "    <tr>\n",
       "      <th>1124</th>\n",
       "      <td>332328</td>\n",
       "      <td>jezero</td>\n",
       "    </tr>\n",
       "    <tr>\n",
       "      <th>1125</th>\n",
       "      <td>333113</td>\n",
       "      <td>koča</td>\n",
       "    </tr>\n",
       "    <tr>\n",
       "      <th>1126</th>\n",
       "      <td>331678</td>\n",
       "      <td>vrh</td>\n",
       "    </tr>\n",
       "    <tr>\n",
       "      <th>1127</th>\n",
       "      <td>332451</td>\n",
       "      <td>koča</td>\n",
       "    </tr>\n",
       "  </tbody>\n",
       "</table>\n",
       "<p>1128 rows × 2 columns</p>\n",
       "</div>"
      ],
      "text/plain": [
       "          id   vrsta\n",
       "0        111     vrh\n",
       "1        111   bivak\n",
       "2        112     vrh\n",
       "3        113     vrh\n",
       "4        115     vrh\n",
       "...      ...     ...\n",
       "1123  332760  jezero\n",
       "1124  332328  jezero\n",
       "1125  333113    koča\n",
       "1126  331678     vrh\n",
       "1127  332451    koča\n",
       "\n",
       "[1128 rows x 2 columns]"
      ]
     },
     "execution_count": 5,
     "metadata": {},
     "output_type": "execute_result"
    }
   ],
   "source": [
    "vrsta"
   ]
  },
  {
   "cell_type": "code",
   "execution_count": 6,
   "metadata": {},
   "outputs": [
    {
     "data": {
      "text/html": [
       "<div>\n",
       "<style scoped>\n",
       "    .dataframe tbody tr th:only-of-type {\n",
       "        vertical-align: middle;\n",
       "    }\n",
       "\n",
       "    .dataframe tbody tr th {\n",
       "        vertical-align: top;\n",
       "    }\n",
       "\n",
       "    .dataframe thead th {\n",
       "        text-align: right;\n",
       "    }\n",
       "</style>\n",
       "<table border=\"1\" class=\"dataframe\">\n",
       "  <thead>\n",
       "    <tr style=\"text-align: right;\">\n",
       "      <th></th>\n",
       "      <th>id</th>\n",
       "      <th>izhodisce</th>\n",
       "      <th>cas</th>\n",
       "      <th>zahtevnost</th>\n",
       "      <th>pot</th>\n",
       "      <th>visinaizhodisca</th>\n",
       "      <th>visinskarazlika</th>\n",
       "    </tr>\n",
       "  </thead>\n",
       "  <tbody>\n",
       "    <tr>\n",
       "      <th>0</th>\n",
       "      <td>111</td>\n",
       "      <td>Aljažev dom v Vratih</td>\n",
       "      <td>360</td>\n",
       "      <td>zelo zahtevna označena pot</td>\n",
       "      <td>Tominškova pot</td>\n",
       "      <td>1015</td>\n",
       "      <td>1849</td>\n",
       "    </tr>\n",
       "    <tr>\n",
       "      <th>1</th>\n",
       "      <td>111</td>\n",
       "      <td>Konec ceste na Pokljuki</td>\n",
       "      <td>360</td>\n",
       "      <td>zelo zahtevna označena pot</td>\n",
       "      <td>čez Planiko in Mali Triglav</td>\n",
       "      <td>1340</td>\n",
       "      <td>1524</td>\n",
       "    </tr>\n",
       "    <tr>\n",
       "      <th>2</th>\n",
       "      <td>111</td>\n",
       "      <td>Dolina Krma</td>\n",
       "      <td>370</td>\n",
       "      <td>zelo zahtevna označena pot</td>\n",
       "      <td>čez Kredarico</td>\n",
       "      <td>930</td>\n",
       "      <td>1934</td>\n",
       "    </tr>\n",
       "    <tr>\n",
       "      <th>3</th>\n",
       "      <td>111</td>\n",
       "      <td>Aljažev dom v Vratih</td>\n",
       "      <td>390</td>\n",
       "      <td>zelo zahtevna označena pot</td>\n",
       "      <td>čez Plemenice</td>\n",
       "      <td>1015</td>\n",
       "      <td>1849</td>\n",
       "    </tr>\n",
       "    <tr>\n",
       "      <th>4</th>\n",
       "      <td>111</td>\n",
       "      <td>Aljažev dom v Vratih</td>\n",
       "      <td>370</td>\n",
       "      <td>zelo zahtevna označena pot</td>\n",
       "      <td>čez Prag</td>\n",
       "      <td>1015</td>\n",
       "      <td>1849</td>\n",
       "    </tr>\n",
       "    <tr>\n",
       "      <th>...</th>\n",
       "      <td>...</td>\n",
       "      <td>...</td>\n",
       "      <td>...</td>\n",
       "      <td>...</td>\n",
       "      <td>...</td>\n",
       "      <td>...</td>\n",
       "      <td>...</td>\n",
       "    </tr>\n",
       "    <tr>\n",
       "      <th>3205</th>\n",
       "      <td>333113</td>\n",
       "      <td>Turistična kmetija Trnovc</td>\n",
       "      <td>180</td>\n",
       "      <td>lahka označena pot</td>\n",
       "      <td>učna pot Kriva jelka</td>\n",
       "      <td>412</td>\n",
       "      <td>0</td>\n",
       "    </tr>\n",
       "    <tr>\n",
       "      <th>3206</th>\n",
       "      <td>331678</td>\n",
       "      <td>Žovneško jezero</td>\n",
       "      <td>900</td>\n",
       "      <td>lahka označena pot</td>\n",
       "      <td>NaN</td>\n",
       "      <td>305</td>\n",
       "      <td>104</td>\n",
       "    </tr>\n",
       "    <tr>\n",
       "      <th>3207</th>\n",
       "      <td>331678</td>\n",
       "      <td>Žovneško jezero</td>\n",
       "      <td>600</td>\n",
       "      <td>lahka neoznačena steza</td>\n",
       "      <td>po cesti</td>\n",
       "      <td>340</td>\n",
       "      <td>69</td>\n",
       "    </tr>\n",
       "    <tr>\n",
       "      <th>3208</th>\n",
       "      <td>332827</td>\n",
       "      <td>Ribiška koča Šoštanj</td>\n",
       "      <td>210</td>\n",
       "      <td>lahka označena pot</td>\n",
       "      <td>Trška pot okoli Šoštanja</td>\n",
       "      <td>358</td>\n",
       "      <td>0</td>\n",
       "    </tr>\n",
       "    <tr>\n",
       "      <th>3209</th>\n",
       "      <td>332451</td>\n",
       "      <td>Komenda</td>\n",
       "      <td>900</td>\n",
       "      <td>lahka označena pot</td>\n",
       "      <td>NaN</td>\n",
       "      <td>347</td>\n",
       "      <td>-2</td>\n",
       "    </tr>\n",
       "  </tbody>\n",
       "</table>\n",
       "<p>3210 rows × 7 columns</p>\n",
       "</div>"
      ],
      "text/plain": [
       "          id                  izhodisce  cas                  zahtevnost  \\\n",
       "0        111       Aljažev dom v Vratih  360  zelo zahtevna označena pot   \n",
       "1        111    Konec ceste na Pokljuki  360  zelo zahtevna označena pot   \n",
       "2        111                Dolina Krma  370  zelo zahtevna označena pot   \n",
       "3        111       Aljažev dom v Vratih  390  zelo zahtevna označena pot   \n",
       "4        111       Aljažev dom v Vratih  370  zelo zahtevna označena pot   \n",
       "...      ...                        ...  ...                         ...   \n",
       "3205  333113  Turistična kmetija Trnovc  180          lahka označena pot   \n",
       "3206  331678            Žovneško jezero  900          lahka označena pot   \n",
       "3207  331678            Žovneško jezero  600      lahka neoznačena steza   \n",
       "3208  332827       Ribiška koča Šoštanj  210          lahka označena pot   \n",
       "3209  332451                    Komenda  900          lahka označena pot   \n",
       "\n",
       "                              pot  visinaizhodisca  visinskarazlika  \n",
       "0                  Tominškova pot             1015             1849  \n",
       "1     čez Planiko in Mali Triglav             1340             1524  \n",
       "2                   čez Kredarico              930             1934  \n",
       "3                   čez Plemenice             1015             1849  \n",
       "4                        čez Prag             1015             1849  \n",
       "...                           ...              ...              ...  \n",
       "3205         učna pot Kriva jelka              412                0  \n",
       "3206                          NaN              305              104  \n",
       "3207                     po cesti              340               69  \n",
       "3208     Trška pot okoli Šoštanja              358                0  \n",
       "3209                          NaN              347               -2  \n",
       "\n",
       "[3210 rows x 7 columns]"
      ]
     },
     "execution_count": 6,
     "metadata": {},
     "output_type": "execute_result"
    }
   ],
   "source": [
    "izhodisca"
   ]
  },
  {
   "attachments": {},
   "cell_type": "markdown",
   "metadata": {},
   "source": [
    "# PRILJUBLJENOST"
   ]
  },
  {
   "attachments": {},
   "cell_type": "markdown",
   "metadata": {},
   "source": [
    "#### VPRAŠANJE: Ali je višina gore povezana z njeno priljubljenostjo?"
   ]
  },
  {
   "attachments": {},
   "cell_type": "markdown",
   "metadata": {},
   "source": [
    "Razvrstitev po priljubljenosti (to nam iskreno ne pove veliko):"
   ]
  },
  {
   "cell_type": "code",
   "execution_count": 31,
   "metadata": {},
   "outputs": [
    {
     "data": {
      "text/html": [
       "<div>\n",
       "<style scoped>\n",
       "    .dataframe tbody tr th:only-of-type {\n",
       "        vertical-align: middle;\n",
       "    }\n",
       "\n",
       "    .dataframe tbody tr th {\n",
       "        vertical-align: top;\n",
       "    }\n",
       "\n",
       "    .dataframe thead th {\n",
       "        text-align: right;\n",
       "    }\n",
       "</style>\n",
       "<table border=\"1\" class=\"dataframe\">\n",
       "  <thead>\n",
       "    <tr style=\"text-align: right;\">\n",
       "      <th></th>\n",
       "      <th>id</th>\n",
       "      <th>ime</th>\n",
       "      <th>gorovje</th>\n",
       "      <th>visina</th>\n",
       "      <th>priljubljenost</th>\n",
       "      <th>koordinate</th>\n",
       "    </tr>\n",
       "  </thead>\n",
       "  <tbody>\n",
       "    <tr>\n",
       "      <th>0</th>\n",
       "      <td>111</td>\n",
       "      <td>Triglav</td>\n",
       "      <td>Julijske Alpe</td>\n",
       "      <td>2864</td>\n",
       "      <td>100</td>\n",
       "      <td>46,37832°N 13,83648°E</td>\n",
       "    </tr>\n",
       "    <tr>\n",
       "      <th>730</th>\n",
       "      <td>3316</td>\n",
       "      <td>Grintovec</td>\n",
       "      <td>Kamniško Savinjske Alpe</td>\n",
       "      <td>2558</td>\n",
       "      <td>100</td>\n",
       "      <td>46,35718°N 14,53548°E</td>\n",
       "    </tr>\n",
       "    <tr>\n",
       "      <th>741</th>\n",
       "      <td>33146</td>\n",
       "      <td>Ojstrica</td>\n",
       "      <td>Kamniško Savinjske Alpe</td>\n",
       "      <td>2350</td>\n",
       "      <td>100</td>\n",
       "      <td>46,36395°N 14,63724°E</td>\n",
       "    </tr>\n",
       "    <tr>\n",
       "      <th>77</th>\n",
       "      <td>11150</td>\n",
       "      <td>Krn</td>\n",
       "      <td>Julijske Alpe</td>\n",
       "      <td>2244</td>\n",
       "      <td>100</td>\n",
       "      <td>46,26607°N 13,65862°E</td>\n",
       "    </tr>\n",
       "    <tr>\n",
       "      <th>747</th>\n",
       "      <td>3385</td>\n",
       "      <td>Storžič</td>\n",
       "      <td>Kamniško Savinjske Alpe</td>\n",
       "      <td>2132</td>\n",
       "      <td>100</td>\n",
       "      <td>46,35028°N 14,40472°E</td>\n",
       "    </tr>\n",
       "    <tr>\n",
       "      <th>...</th>\n",
       "      <td>...</td>\n",
       "      <td>...</td>\n",
       "      <td>...</td>\n",
       "      <td>...</td>\n",
       "      <td>...</td>\n",
       "      <td>...</td>\n",
       "    </tr>\n",
       "    <tr>\n",
       "      <th>696</th>\n",
       "      <td>2113567</td>\n",
       "      <td>Dedni vrh (Šuštarica)</td>\n",
       "      <td>Karavanke</td>\n",
       "      <td>653</td>\n",
       "      <td>3</td>\n",
       "      <td>46,28589°N 15,65327°E</td>\n",
       "    </tr>\n",
       "    <tr>\n",
       "      <th>700</th>\n",
       "      <td>2113607</td>\n",
       "      <td>Razgledna točka na Stenici</td>\n",
       "      <td>Karavanke</td>\n",
       "      <td>630</td>\n",
       "      <td>3</td>\n",
       "      <td>46,37824°N 15,30418°E</td>\n",
       "    </tr>\n",
       "    <tr>\n",
       "      <th>724</th>\n",
       "      <td>2113551</td>\n",
       "      <td>Cerkev Marije Tolažnice (Brezje nad Žetalami)</td>\n",
       "      <td>Karavanke</td>\n",
       "      <td>382</td>\n",
       "      <td>3</td>\n",
       "      <td>46,27183°N 15,7852°E</td>\n",
       "    </tr>\n",
       "    <tr>\n",
       "      <th>716</th>\n",
       "      <td>2113610</td>\n",
       "      <td>Goležev grad</td>\n",
       "      <td>Karavanke</td>\n",
       "      <td>505</td>\n",
       "      <td>2</td>\n",
       "      <td>46,37654°N 15,29305°E</td>\n",
       "    </tr>\n",
       "    <tr>\n",
       "      <th>718</th>\n",
       "      <td>2113606</td>\n",
       "      <td>Cerkev Marijinega vnebovzetja (Vitanje)</td>\n",
       "      <td>Karavanke</td>\n",
       "      <td>472</td>\n",
       "      <td>2</td>\n",
       "      <td>46,38212°N 15,29745°E</td>\n",
       "    </tr>\n",
       "  </tbody>\n",
       "</table>\n",
       "<p>1005 rows × 6 columns</p>\n",
       "</div>"
      ],
      "text/plain": [
       "          id                                            ime  \\\n",
       "0        111                                        Triglav   \n",
       "730     3316                                      Grintovec   \n",
       "741    33146                                       Ojstrica   \n",
       "77     11150                                            Krn   \n",
       "747     3385                                        Storžič   \n",
       "..       ...                                            ...   \n",
       "696  2113567                          Dedni vrh (Šuštarica)   \n",
       "700  2113607                     Razgledna točka na Stenici   \n",
       "724  2113551  Cerkev Marije Tolažnice (Brezje nad Žetalami)   \n",
       "716  2113610                                   Goležev grad   \n",
       "718  2113606        Cerkev Marijinega vnebovzetja (Vitanje)   \n",
       "\n",
       "                     gorovje  visina  priljubljenost             koordinate  \n",
       "0              Julijske Alpe    2864             100  46,37832°N 13,83648°E  \n",
       "730  Kamniško Savinjske Alpe    2558             100  46,35718°N 14,53548°E  \n",
       "741  Kamniško Savinjske Alpe    2350             100  46,36395°N 14,63724°E  \n",
       "77             Julijske Alpe    2244             100  46,26607°N 13,65862°E  \n",
       "747  Kamniško Savinjske Alpe    2132             100  46,35028°N 14,40472°E  \n",
       "..                       ...     ...             ...                    ...  \n",
       "696                Karavanke     653               3  46,28589°N 15,65327°E  \n",
       "700                Karavanke     630               3  46,37824°N 15,30418°E  \n",
       "724                Karavanke     382               3   46,27183°N 15,7852°E  \n",
       "716                Karavanke     505               2  46,37654°N 15,29305°E  \n",
       "718                Karavanke     472               2  46,38212°N 15,29745°E  \n",
       "\n",
       "[1005 rows x 6 columns]"
      ]
     },
     "execution_count": 31,
     "metadata": {},
     "output_type": "execute_result"
    }
   ],
   "source": [
    "alpe_po_priljubljenosti = alpe.sort_values([\"priljubljenost\", 'visina'], ascending = False)\n",
    "alpe_po_priljubljenosti"
   ]
  },
  {
   "attachments": {},
   "cell_type": "markdown",
   "metadata": {},
   "source": [
    "Ali je priljubljenost gore povezana z njeno višino?"
   ]
  },
  {
   "cell_type": "code",
   "execution_count": 8,
   "metadata": {},
   "outputs": [
    {
     "data": {
      "text/plain": [
       "<AxesSubplot: title={'center': 'Priljubljenost v odvisnosti od višine'}, xlabel='visina', ylabel='priljubljenost'>"
      ]
     },
     "execution_count": 8,
     "metadata": {},
     "output_type": "execute_result"
    },
    {
     "data": {
      "image/png": "[encoded data removed]",
      "text/plain": [
       "<Figure size 640x480 with 1 Axes>"
      ]
     },
     "metadata": {},
     "output_type": "display_data"
    }
   ],
   "source": [
    "alpe.plot.scatter(x = 'visina', y = 'priljubljenost', title = 'Priljubljenost v odvisnosti od višine')"
   ]
  },
  {
   "attachments": {},
   "cell_type": "markdown",
   "metadata": {},
   "source": [
    "Iz grafa se ne vidi najbolje, mogoče bi bila regresijska črta v obliki nekakšne korenske funkcije?"
   ]
  },
  {
   "cell_type": "code",
   "execution_count": 9,
   "metadata": {},
   "outputs": [
    {
     "data": {
      "text/plain": [
       "0"
      ]
     },
     "execution_count": 9,
     "metadata": {},
     "output_type": "execute_result"
    }
   ],
   "source": [
    "((alpe.priljubljenost < 44) & (alpe.priljubljenost > 36)).sum() # s poskušanjem: ne obstaja priljubljenost na intervalu (36 %, 44 %)"
   ]
  },
  {
   "attachments": {},
   "cell_type": "markdown",
   "metadata": {},
   "source": [
    "Gore s 100 %-tno priljubljenostjo:"
   ]
  },
  {
   "cell_type": "code",
   "execution_count": 10,
   "metadata": {},
   "outputs": [
    {
     "data": {
      "text/html": [
       "<div>\n",
       "<style scoped>\n",
       "    .dataframe tbody tr th:only-of-type {\n",
       "        vertical-align: middle;\n",
       "    }\n",
       "\n",
       "    .dataframe tbody tr th {\n",
       "        vertical-align: top;\n",
       "    }\n",
       "\n",
       "    .dataframe thead th {\n",
       "        text-align: right;\n",
       "    }\n",
       "</style>\n",
       "<table border=\"1\" class=\"dataframe\">\n",
       "  <thead>\n",
       "    <tr style=\"text-align: right;\">\n",
       "      <th></th>\n",
       "      <th>id</th>\n",
       "      <th>ime</th>\n",
       "      <th>gorovje</th>\n",
       "      <th>visina</th>\n",
       "      <th>priljubljenost</th>\n",
       "      <th>koordinate</th>\n",
       "    </tr>\n",
       "  </thead>\n",
       "  <tbody>\n",
       "    <tr>\n",
       "      <th>0</th>\n",
       "      <td>111</td>\n",
       "      <td>Triglav</td>\n",
       "      <td>Julijske Alpe</td>\n",
       "      <td>2864</td>\n",
       "      <td>100</td>\n",
       "      <td>46,37832°N 13,83648°E</td>\n",
       "    </tr>\n",
       "    <tr>\n",
       "      <th>77</th>\n",
       "      <td>11150</td>\n",
       "      <td>Krn</td>\n",
       "      <td>Julijske Alpe</td>\n",
       "      <td>2244</td>\n",
       "      <td>100</td>\n",
       "      <td>46,26607°N 13,65862°E</td>\n",
       "    </tr>\n",
       "    <tr>\n",
       "      <th>124</th>\n",
       "      <td>1177</td>\n",
       "      <td>Viševnik</td>\n",
       "      <td>Julijske Alpe</td>\n",
       "      <td>2050</td>\n",
       "      <td>100</td>\n",
       "      <td>46,35901°N 13,89829°E</td>\n",
       "    </tr>\n",
       "    <tr>\n",
       "      <th>233</th>\n",
       "      <td>11133</td>\n",
       "      <td>Koča pri Triglavskih jezerih</td>\n",
       "      <td>Julijske Alpe</td>\n",
       "      <td>1685</td>\n",
       "      <td>100</td>\n",
       "      <td>46,3186°N 13,77898°E</td>\n",
       "    </tr>\n",
       "    <tr>\n",
       "      <th>484</th>\n",
       "      <td>21152</td>\n",
       "      <td>Begunjščica</td>\n",
       "      <td>Karavanke</td>\n",
       "      <td>2060</td>\n",
       "      <td>100</td>\n",
       "      <td>46,42166°N 14,22982°E</td>\n",
       "    </tr>\n",
       "    <tr>\n",
       "      <th>536</th>\n",
       "      <td>211223</td>\n",
       "      <td>Dom na Kofcah</td>\n",
       "      <td>Karavanke</td>\n",
       "      <td>1488</td>\n",
       "      <td>100</td>\n",
       "      <td>46,41772°N 14,3232°E</td>\n",
       "    </tr>\n",
       "    <tr>\n",
       "      <th>730</th>\n",
       "      <td>3316</td>\n",
       "      <td>Grintovec</td>\n",
       "      <td>Kamniško Savinjske Alpe</td>\n",
       "      <td>2558</td>\n",
       "      <td>100</td>\n",
       "      <td>46,35718°N 14,53548°E</td>\n",
       "    </tr>\n",
       "    <tr>\n",
       "      <th>741</th>\n",
       "      <td>33146</td>\n",
       "      <td>Ojstrica</td>\n",
       "      <td>Kamniško Savinjske Alpe</td>\n",
       "      <td>2350</td>\n",
       "      <td>100</td>\n",
       "      <td>46,36395°N 14,63724°E</td>\n",
       "    </tr>\n",
       "    <tr>\n",
       "      <th>747</th>\n",
       "      <td>3385</td>\n",
       "      <td>Storžič</td>\n",
       "      <td>Kamniško Savinjske Alpe</td>\n",
       "      <td>2132</td>\n",
       "      <td>100</td>\n",
       "      <td>46,35028°N 14,40472°E</td>\n",
       "    </tr>\n",
       "    <tr>\n",
       "      <th>755</th>\n",
       "      <td>33148</td>\n",
       "      <td>Velika Raduha</td>\n",
       "      <td>Kamniško Savinjske Alpe</td>\n",
       "      <td>2062</td>\n",
       "      <td>100</td>\n",
       "      <td>46,40991°N 14,73775°E</td>\n",
       "    </tr>\n",
       "    <tr>\n",
       "      <th>776</th>\n",
       "      <td>3395</td>\n",
       "      <td>Kamniška koča na Kamniškem sedlu</td>\n",
       "      <td>Kamniško Savinjske Alpe</td>\n",
       "      <td>1864</td>\n",
       "      <td>100</td>\n",
       "      <td>46,35919°N 14,59748°E</td>\n",
       "    </tr>\n",
       "    <tr>\n",
       "      <th>804</th>\n",
       "      <td>33169</td>\n",
       "      <td>Gradišče (Velika planina)</td>\n",
       "      <td>Kamniško Savinjske Alpe</td>\n",
       "      <td>1666</td>\n",
       "      <td>100</td>\n",
       "      <td>46,29806°N 14,64394°E</td>\n",
       "    </tr>\n",
       "    <tr>\n",
       "      <th>850</th>\n",
       "      <td>33121</td>\n",
       "      <td>Koča na Kriški gori</td>\n",
       "      <td>Kamniško Savinjske Alpe</td>\n",
       "      <td>1471</td>\n",
       "      <td>100</td>\n",
       "      <td>46,35164°N 14,33335°E</td>\n",
       "    </tr>\n",
       "  </tbody>\n",
       "</table>\n",
       "</div>"
      ],
      "text/plain": [
       "         id                               ime                  gorovje  \\\n",
       "0       111                           Triglav            Julijske Alpe   \n",
       "77    11150                               Krn            Julijske Alpe   \n",
       "124    1177                          Viševnik            Julijske Alpe   \n",
       "233   11133      Koča pri Triglavskih jezerih            Julijske Alpe   \n",
       "484   21152                       Begunjščica                Karavanke   \n",
       "536  211223                     Dom na Kofcah                Karavanke   \n",
       "730    3316                         Grintovec  Kamniško Savinjske Alpe   \n",
       "741   33146                          Ojstrica  Kamniško Savinjske Alpe   \n",
       "747    3385                           Storžič  Kamniško Savinjske Alpe   \n",
       "755   33148                     Velika Raduha  Kamniško Savinjske Alpe   \n",
       "776    3395  Kamniška koča na Kamniškem sedlu  Kamniško Savinjske Alpe   \n",
       "804   33169         Gradišče (Velika planina)  Kamniško Savinjske Alpe   \n",
       "850   33121               Koča na Kriški gori  Kamniško Savinjske Alpe   \n",
       "\n",
       "     visina  priljubljenost             koordinate  \n",
       "0      2864             100  46,37832°N 13,83648°E  \n",
       "77     2244             100  46,26607°N 13,65862°E  \n",
       "124    2050             100  46,35901°N 13,89829°E  \n",
       "233    1685             100   46,3186°N 13,77898°E  \n",
       "484    2060             100  46,42166°N 14,22982°E  \n",
       "536    1488             100   46,41772°N 14,3232°E  \n",
       "730    2558             100  46,35718°N 14,53548°E  \n",
       "741    2350             100  46,36395°N 14,63724°E  \n",
       "747    2132             100  46,35028°N 14,40472°E  \n",
       "755    2062             100  46,40991°N 14,73775°E  \n",
       "776    1864             100  46,35919°N 14,59748°E  \n",
       "804    1666             100  46,29806°N 14,64394°E  \n",
       "850    1471             100  46,35164°N 14,33335°E  "
      ]
     },
     "execution_count": 10,
     "metadata": {},
     "output_type": "execute_result"
    }
   ],
   "source": [
    "alpe[alpe.priljubljenost == 100]\n",
    "# alpe[alpe.priljubljenost == 100].ime.count()"
   ]
  },
  {
   "attachments": {},
   "cell_type": "markdown",
   "metadata": {},
   "source": [
    "# IZHODIŠČA IN POTI"
   ]
  },
  {
   "attachments": {},
   "cell_type": "markdown",
   "metadata": {},
   "source": [
    "#### HIPOTEZA: Več kot 75 % gora ima več kot eno izhodišče."
   ]
  },
  {
   "attachments": {},
   "cell_type": "markdown",
   "metadata": {},
   "source": [
    "Poglejmo si izhodišča. Koliko gora ima več kot eno izhodišče?"
   ]
  },
  {
   "cell_type": "code",
   "execution_count": 11,
   "metadata": {},
   "outputs": [
    {
     "data": {
      "text/plain": [
       "3210"
      ]
     },
     "execution_count": 11,
     "metadata": {},
     "output_type": "execute_result"
    }
   ],
   "source": [
    "stevilo_poti = izhodisca.id.count() # nekatere poti nimajo imena, ampak se vseeno štejejo za svojo pot\n",
    "stevilo_poti"
   ]
  },
  {
   "cell_type": "code",
   "execution_count": 12,
   "metadata": {},
   "outputs": [
    {
     "data": {
      "text/plain": [
       "id\n",
       "111        27\n",
       "112         5\n",
       "113         3\n",
       "115         2\n",
       "116        10\n",
       "           ..\n",
       "2113605     2\n",
       "2113606     1\n",
       "2113607     1\n",
       "2113610     2\n",
       "2113615     2\n",
       "Length: 996, dtype: int64"
      ]
     },
     "execution_count": 12,
     "metadata": {},
     "output_type": "execute_result"
    }
   ],
   "source": [
    "stevilo_poti_za_posamezno_goro = izhodisca.groupby('id').size()\n",
    "stevilo_poti_za_posamezno_goro"
   ]
  },
  {
   "attachments": {},
   "cell_type": "markdown",
   "metadata": {},
   "source": [
    "Torej npr. na Triglav vodi 27 poti. Iz koliko izhodišč pa lahko gremo?"
   ]
  },
  {
   "cell_type": "code",
   "execution_count": 13,
   "metadata": {},
   "outputs": [
    {
     "data": {
      "text/plain": [
       "548"
      ]
     },
     "execution_count": 13,
     "metadata": {},
     "output_type": "execute_result"
    }
   ],
   "source": [
    "stevilo_razlicnih_izhodisc_dataframe = izhodisca.groupby('izhodisce').size() # dobimo DataFrame z izhodišči in kolikokrat se ponovijo\n",
    "stevilo_razlicnih_izhodisc = stevilo_razlicnih_izhodisc_dataframe.count()\n",
    "stevilo_razlicnih_izhodisc\n",
    "# Jasno je poti več kot izhodišč, saj lahko iz vsakega izhodišča gremo v več smeri, po več poteh na različne lokacije."
   ]
  },
  {
   "cell_type": "code",
   "execution_count": 14,
   "metadata": {},
   "outputs": [
    {
     "data": {
      "text/plain": [
       "5.857664233576642"
      ]
     },
     "execution_count": 14,
     "metadata": {},
     "output_type": "execute_result"
    }
   ],
   "source": [
    "stevilo_poti / stevilo_razlicnih_izhodisc # povprečno število poti na izhodišče"
   ]
  },
  {
   "cell_type": "code",
   "execution_count": 15,
   "metadata": {},
   "outputs": [
    {
     "data": {
      "text/html": [
       "<div>\n",
       "<style scoped>\n",
       "    .dataframe tbody tr th:only-of-type {\n",
       "        vertical-align: middle;\n",
       "    }\n",
       "\n",
       "    .dataframe tbody tr th {\n",
       "        vertical-align: top;\n",
       "    }\n",
       "\n",
       "    .dataframe thead th {\n",
       "        text-align: right;\n",
       "    }\n",
       "</style>\n",
       "<table border=\"1\" class=\"dataframe\">\n",
       "  <thead>\n",
       "    <tr style=\"text-align: right;\">\n",
       "      <th></th>\n",
       "      <th>id</th>\n",
       "      <th>ime</th>\n",
       "      <th>stevilorazlicnihizhodisc</th>\n",
       "    </tr>\n",
       "  </thead>\n",
       "  <tbody>\n",
       "    <tr>\n",
       "      <th>0</th>\n",
       "      <td>111</td>\n",
       "      <td>Triglav</td>\n",
       "      <td>18</td>\n",
       "    </tr>\n",
       "    <tr>\n",
       "      <th>1</th>\n",
       "      <td>112</td>\n",
       "      <td>Škrlatica</td>\n",
       "      <td>3</td>\n",
       "    </tr>\n",
       "    <tr>\n",
       "      <th>2</th>\n",
       "      <td>113</td>\n",
       "      <td>Mali Triglav</td>\n",
       "      <td>3</td>\n",
       "    </tr>\n",
       "    <tr>\n",
       "      <th>3</th>\n",
       "      <td>115</td>\n",
       "      <td>Visoki Rokav</td>\n",
       "      <td>2</td>\n",
       "    </tr>\n",
       "    <tr>\n",
       "      <th>4</th>\n",
       "      <td>116</td>\n",
       "      <td>Jalovec</td>\n",
       "      <td>6</td>\n",
       "    </tr>\n",
       "    <tr>\n",
       "      <th>...</th>\n",
       "      <td>...</td>\n",
       "      <td>...</td>\n",
       "      <td>...</td>\n",
       "    </tr>\n",
       "    <tr>\n",
       "      <th>1000</th>\n",
       "      <td>332328</td>\n",
       "      <td>Šobčev bajer</td>\n",
       "      <td>5</td>\n",
       "    </tr>\n",
       "    <tr>\n",
       "      <th>1001</th>\n",
       "      <td>333113</td>\n",
       "      <td>Turistična kmetija Trnovc</td>\n",
       "      <td>1</td>\n",
       "    </tr>\n",
       "    <tr>\n",
       "      <th>1002</th>\n",
       "      <td>331678</td>\n",
       "      <td>Grad Žovnek</td>\n",
       "      <td>2</td>\n",
       "    </tr>\n",
       "    <tr>\n",
       "      <th>1003</th>\n",
       "      <td>332827</td>\n",
       "      <td>Šoštanj</td>\n",
       "      <td>1</td>\n",
       "    </tr>\n",
       "    <tr>\n",
       "      <th>1004</th>\n",
       "      <td>332451</td>\n",
       "      <td>Planinski dom Milana Šinkovca</td>\n",
       "      <td>1</td>\n",
       "    </tr>\n",
       "  </tbody>\n",
       "</table>\n",
       "<p>1005 rows × 3 columns</p>\n",
       "</div>"
      ],
      "text/plain": [
       "          id                            ime  stevilorazlicnihizhodisc\n",
       "0        111                        Triglav                        18\n",
       "1        112                      Škrlatica                         3\n",
       "2        113                   Mali Triglav                         3\n",
       "3        115                   Visoki Rokav                         2\n",
       "4        116                        Jalovec                         6\n",
       "...      ...                            ...                       ...\n",
       "1000  332328                   Šobčev bajer                         5\n",
       "1001  333113      Turistična kmetija Trnovc                         1\n",
       "1002  331678                    Grad Žovnek                         2\n",
       "1003  332827                        Šoštanj                         1\n",
       "1004  332451  Planinski dom Milana Šinkovca                         1\n",
       "\n",
       "[1005 rows x 3 columns]"
      ]
     },
     "execution_count": 15,
     "metadata": {},
     "output_type": "execute_result"
    }
   ],
   "source": [
    "# napišemo funkcijo, ki za vsak id prešteje število različnih izhodišč te gore\n",
    "seznam_st_razlicnih_izhodisc = []\n",
    "for id in alpe.id:\n",
    "    stevec = 0\n",
    "    seznam_razlicnih_izhodisc = []\n",
    "    for izhodisce in izhodisca[izhodisca.id == id].pot: # za vsako izhodišče pogleda, ali se je že ponovilo, sicer prišteje števcu 1\n",
    "        if izhodisce not in seznam_razlicnih_izhodisc:\n",
    "            seznam_razlicnih_izhodisc.append(izhodisce)\n",
    "            stevec += 1\n",
    "    seznam_st_razlicnih_izhodisc.append(stevec)\n",
    "razlicna_izhodisca = alpe[['id','ime']].assign(stevilorazlicnihizhodisc = seznam_st_razlicnih_izhodisc) # število različnih izhodišč pripropamo v \"alpe\"\n",
    "razlicna_izhodisca"
   ]
  },
  {
   "cell_type": "code",
   "execution_count": 16,
   "metadata": {},
   "outputs": [
    {
     "data": {
      "text/plain": [
       "497"
      ]
     },
     "execution_count": 16,
     "metadata": {},
     "output_type": "execute_result"
    }
   ],
   "source": [
    "stevilo_gora_z_vec_kot_enim_izhodiscem = (razlicna_izhodisca.stevilorazlicnihizhodisc > 1).sum()\n",
    "stevilo_gora_z_vec_kot_enim_izhodiscem"
   ]
  },
  {
   "cell_type": "code",
   "execution_count": 17,
   "metadata": {},
   "outputs": [
    {
     "data": {
      "text/plain": [
       "0.4945273631840796"
      ]
     },
     "execution_count": 17,
     "metadata": {},
     "output_type": "execute_result"
    }
   ],
   "source": [
    "delez_gora_z_vec_izhodisci = stevilo_gora_z_vec_kot_enim_izhodiscem / alpe.ime.count()\n",
    "delez_gora_z_vec_izhodisci"
   ]
  },
  {
   "attachments": {},
   "cell_type": "markdown",
   "metadata": {},
   "source": [
    "Hipoteza *\"več kot 75 % gora ima več kot eno izhodišče\"* je tako OVRŽENA, saj ima v grobem \"le\" pol lokacij več kot eno izhodišče."
   ]
  },
  {
   "attachments": {},
   "cell_type": "markdown",
   "metadata": {},
   "source": [
    "Katere so vse možne zahtevnosti poti?"
   ]
  },
  {
   "cell_type": "code",
   "execution_count": 18,
   "metadata": {},
   "outputs": [
    {
     "data": {
      "text/plain": [
       "zahtevnost\n",
       "alpinistični vzpon                                               9\n",
       "delno zahtevna neoznačena pot                                   73\n",
       "delno zahtevna neoznačena pot, delno zahtevna označena pot       4\n",
       "delno zahtevna neoznačena pot, lahka označena pot                6\n",
       "delno zahtevna neoznačena pot, lahko brezpotje                   1\n",
       "delno zahtevna neoznačena pot, zahtevna označena pot             3\n",
       "delno zahtevna označena pot                                    183\n",
       "delno zahtevna označena pot, delno zahtevna neoznačena pot       2\n",
       "delno zahtevna označena pot, lahka neoznačena steza              5\n",
       "delno zahtevna označena pot, lahko brezpotje                    26\n",
       "delno zahtevna označena pot, zahtevno brezpotje                  7\n",
       "delno zahtevna označena pot, zelo zahtevno brezpotje             1\n",
       "izjemno zahtevna označena pot                                   20\n",
       "izjemno zahtevna označena pot, lahko brezpotje                   1\n",
       "lahka neoznačena steza                                         647\n",
       "lahka neoznačena steza, delno zahtevna označena pot             22\n",
       "lahka neoznačena steza, lahka označena pot                      39\n",
       "lahka neoznačena steza, lahko brezpotje                          7\n",
       "lahka neoznačena steza, zahtevna označena pot                    5\n",
       "lahka neoznačena steza, zahtevno brezpotje                       2\n",
       "lahka neoznačena steza, zelo zahtevna označena pot               7\n",
       "lahka označena pot                                            1361\n",
       "lahka označena pot, delno zahtevna neoznačena pot                4\n",
       "lahka označena pot, lahka neoznačena steza                      27\n",
       "lahka označena pot, lahko brezpotje                              6\n",
       "lahka označena pot, zahtevno brezpotje                           1\n",
       "lahko brezpotje                                                131\n",
       "lahko brezpotje, delno zahtevna označena pot                     2\n",
       "lahko brezpotje, lahka neoznačena steza                          1\n",
       "lahko brezpotje, lahka označena pot                              4\n",
       "lahko brezpotje, zahtevna označena pot                           2\n",
       "lahko brezpotje, zelo zahtevna označena pot                      1\n",
       "ni podatka                                                       4\n",
       "zahtevna neoznačena steza                                       63\n",
       "zahtevna neoznačena steza, lahka označena pot                    3\n",
       "zahtevna neoznačena steza, lahko brezpotje                       3\n",
       "zahtevna neoznačena steza, zahtevna označena pot                 3\n",
       "zahtevna označena pot                                          195\n",
       "zahtevna označena pot, delno zahtevna neoznačena pot             6\n",
       "zahtevna označena pot, lahka neoznačena steza                   10\n",
       "zahtevna označena pot, lahko brezpotje                          12\n",
       "zahtevna označena pot, zahtevno brezpotje                        1\n",
       "zahtevno brezpotje                                              59\n",
       "zahtevno brezpotje, zahtevna neoznačena steza                    2\n",
       "zahtevno brezpotje, zahtevna označena pot                        1\n",
       "zahtevno brezpotje, zelo zahtevna označena pot                   3\n",
       "zelo zahtevna neoznačena steza                                  13\n",
       "zelo zahtevna neoznačena steza, lahko brezpotje                  2\n",
       "zelo zahtevna neoznačena steza, zahtevna označena pot            2\n",
       "zelo zahtevna označena pot                                     173\n",
       "zelo zahtevna označena pot, delno zahtevna neoznačena pot        1\n",
       "zelo zahtevna označena pot, lahka neoznačena steza               3\n",
       "zelo zahtevna označena pot, lahko brezpotje                      7\n",
       "zelo zahtevna označena pot, zahtevna neoznačena steza            1\n",
       "zelo zahtevna označena pot, zahtevno brezpotje                   1\n",
       "zelo zahtevna označena pot, zelo zahtevno brezpotje              1\n",
       "zelo zahtevno brezpotje                                         31\n",
       "dtype: int64"
      ]
     },
     "execution_count": 18,
     "metadata": {},
     "output_type": "execute_result"
    }
   ],
   "source": [
    "izhodisca.groupby('zahtevnost').size()"
   ]
  },
  {
   "attachments": {},
   "cell_type": "markdown",
   "metadata": {},
   "source": [
    "Ker očitno obstajajo poti z več težavnostmi, se zaplete ... Lahko bi definirali še 4. tabelo, ampak je ta vezana na izhodišče, ki je vezano na goro in se zakomplicira."
   ]
  },
  {
   "cell_type": "code",
   "execution_count": 32,
   "metadata": {},
   "outputs": [
    {
     "data": {
      "text/plain": [
       "0       zelo zahtevna označena pot\n",
       "1       zelo zahtevna označena pot\n",
       "2       zelo zahtevna označena pot\n",
       "3       zelo zahtevna označena pot\n",
       "4       zelo zahtevna označena pot\n",
       "                   ...            \n",
       "3205            lahka označena pot\n",
       "3206            lahka označena pot\n",
       "3207        lahka neoznačena steza\n",
       "3208            lahka označena pot\n",
       "3209            lahka označena pot\n",
       "Name: zahtevnost, Length: 3210, dtype: object"
      ]
     },
     "execution_count": 32,
     "metadata": {},
     "output_type": "execute_result"
    }
   ],
   "source": [
    "izhodisca.zahtevnost\n",
    "seznam_moznih_zahtevnosti = []\n",
    "for zahtevnosti in izhodisca.zahtevnost:\n",
    "    "
   ]
  },
  {
   "attachments": {},
   "cell_type": "markdown",
   "metadata": {},
   "source": [
    "# VIŠINA IN ČASI POTI"
   ]
  },
  {
   "attachments": {},
   "cell_type": "markdown",
   "metadata": {},
   "source": [
    "#### HIPOTEZA: Čas poti je povezan z višinsko razliko med izhodiščem in vrhom gore."
   ]
  },
  {
   "attachments": {},
   "cell_type": "markdown",
   "metadata": {},
   "source": [
    "Število gora z višino vsaj 2000 m:"
   ]
  },
  {
   "cell_type": "code",
   "execution_count": 19,
   "metadata": {},
   "outputs": [
    {
     "data": {
      "text/plain": [
       "175"
      ]
     },
     "execution_count": 19,
     "metadata": {},
     "output_type": "execute_result"
    }
   ],
   "source": [
    "dvatisocaki = alpe[alpe.visina >= 2000]\n",
    "# dvatisocaki[[\"ime\", \"visina\"]].sort_values(\"visina\", ascending=False) # --> tabelica s samo stolpcema \"ime\" in \"visina\" (padajoče)\n",
    "dvatisocaki.ime.count()"
   ]
  },
  {
   "cell_type": "code",
   "execution_count": 20,
   "metadata": {},
   "outputs": [
    {
     "data": {
      "text/plain": [
       "550"
      ]
     },
     "execution_count": 20,
     "metadata": {},
     "output_type": "execute_result"
    }
   ],
   "source": [
    "stevilo_enkratnih_visin = (alpe.groupby('visina').size() == 1).sum() # število višin, torej le po ena gora je tako visoka\n",
    "stevilo_enkratnih_visin"
   ]
  },
  {
   "attachments": {},
   "cell_type": "markdown",
   "metadata": {},
   "source": [
    "Razvrstitev po padajoči višinski razliki med izhodiščem in vrhom:"
   ]
  },
  {
   "cell_type": "code",
   "execution_count": 21,
   "metadata": {},
   "outputs": [],
   "source": [
    "alpe_z_izhodisci = pd.merge(alpe, izhodisca, left_on='id', right_on='id') # združeni tabeli 'alpe' in 'izhodisca'"
   ]
  },
  {
   "cell_type": "code",
   "execution_count": 22,
   "metadata": {},
   "outputs": [
    {
     "data": {
      "text/html": [
       "<div>\n",
       "<style scoped>\n",
       "    .dataframe tbody tr th:only-of-type {\n",
       "        vertical-align: middle;\n",
       "    }\n",
       "\n",
       "    .dataframe tbody tr th {\n",
       "        vertical-align: top;\n",
       "    }\n",
       "\n",
       "    .dataframe thead th {\n",
       "        text-align: right;\n",
       "    }\n",
       "</style>\n",
       "<table border=\"1\" class=\"dataframe\">\n",
       "  <thead>\n",
       "    <tr style=\"text-align: right;\">\n",
       "      <th></th>\n",
       "      <th>id</th>\n",
       "      <th>ime</th>\n",
       "      <th>visina</th>\n",
       "      <th>izhodisce</th>\n",
       "      <th>cas</th>\n",
       "      <th>zahtevnost</th>\n",
       "      <th>pot</th>\n",
       "      <th>visinaizhodisca</th>\n",
       "      <th>visinskarazlika</th>\n",
       "    </tr>\n",
       "  </thead>\n",
       "  <tbody>\n",
       "    <tr>\n",
       "      <th>25</th>\n",
       "      <td>111</td>\n",
       "      <td>Triglav</td>\n",
       "      <td>2864</td>\n",
       "      <td>Srednja vas</td>\n",
       "      <td>465</td>\n",
       "      <td>zelo zahtevna označena pot</td>\n",
       "      <td>Za Ribnico in čez Triglavsko škrbino</td>\n",
       "      <td>583</td>\n",
       "      <td>2281</td>\n",
       "    </tr>\n",
       "    <tr>\n",
       "      <th>18</th>\n",
       "      <td>111</td>\n",
       "      <td>Triglav</td>\n",
       "      <td>2864</td>\n",
       "      <td>Stara Fužina</td>\n",
       "      <td>465</td>\n",
       "      <td>zelo zahtevna označena pot</td>\n",
       "      <td>čez Planiko in Mali Triglav</td>\n",
       "      <td>600</td>\n",
       "      <td>2264</td>\n",
       "    </tr>\n",
       "    <tr>\n",
       "      <th>21</th>\n",
       "      <td>111</td>\n",
       "      <td>Triglav</td>\n",
       "      <td>2864</td>\n",
       "      <td>Stara Fužina</td>\n",
       "      <td>450</td>\n",
       "      <td>zelo zahtevna označena pot</td>\n",
       "      <td>čez Planiko in Triglavsko škrbino</td>\n",
       "      <td>600</td>\n",
       "      <td>2264</td>\n",
       "    </tr>\n",
       "    <tr>\n",
       "      <th>19</th>\n",
       "      <td>111</td>\n",
       "      <td>Triglav</td>\n",
       "      <td>2864</td>\n",
       "      <td>Zadnjica</td>\n",
       "      <td>435</td>\n",
       "      <td>zelo zahtevna označena pot</td>\n",
       "      <td>čez Komar</td>\n",
       "      <td>650</td>\n",
       "      <td>2214</td>\n",
       "    </tr>\n",
       "    <tr>\n",
       "      <th>14</th>\n",
       "      <td>111</td>\n",
       "      <td>Triglav</td>\n",
       "      <td>2864</td>\n",
       "      <td>Zadnjica</td>\n",
       "      <td>435</td>\n",
       "      <td>zelo zahtevna označena pot</td>\n",
       "      <td>čez Plemenice</td>\n",
       "      <td>650</td>\n",
       "      <td>2214</td>\n",
       "    </tr>\n",
       "    <tr>\n",
       "      <th>...</th>\n",
       "      <td>...</td>\n",
       "      <td>...</td>\n",
       "      <td>...</td>\n",
       "      <td>...</td>\n",
       "      <td>...</td>\n",
       "      <td>...</td>\n",
       "      <td>...</td>\n",
       "      <td>...</td>\n",
       "      <td>...</td>\n",
       "    </tr>\n",
       "    <tr>\n",
       "      <th>1316</th>\n",
       "      <td>112439</td>\n",
       "      <td>Gogalova lipa</td>\n",
       "      <td>725</td>\n",
       "      <td>Kosmačev preval</td>\n",
       "      <td>1800</td>\n",
       "      <td>lahka označena pot</td>\n",
       "      <td>NaN</td>\n",
       "      <td>847</td>\n",
       "      <td>-122</td>\n",
       "    </tr>\n",
       "    <tr>\n",
       "      <th>1055</th>\n",
       "      <td>111899</td>\n",
       "      <td>Planina Zadnji Vogel</td>\n",
       "      <td>1413</td>\n",
       "      <td>Ski hotel Vogel</td>\n",
       "      <td>1800</td>\n",
       "      <td>lahka označena pot</td>\n",
       "      <td>NaN</td>\n",
       "      <td>1540</td>\n",
       "      <td>-127</td>\n",
       "    </tr>\n",
       "    <tr>\n",
       "      <th>1835</th>\n",
       "      <td>211498</td>\n",
       "      <td>Ajdna</td>\n",
       "      <td>1046</td>\n",
       "      <td>Valvasorjev dom pod Stolom</td>\n",
       "      <td>2700</td>\n",
       "      <td>lahka označena pot</td>\n",
       "      <td>lahka pot</td>\n",
       "      <td>1181</td>\n",
       "      <td>-135</td>\n",
       "    </tr>\n",
       "    <tr>\n",
       "      <th>1839</th>\n",
       "      <td>211498</td>\n",
       "      <td>Ajdna</td>\n",
       "      <td>1046</td>\n",
       "      <td>Valvasorjev dom pod Stolom</td>\n",
       "      <td>2400</td>\n",
       "      <td>zahtevna označena pot</td>\n",
       "      <td>plezalna pot</td>\n",
       "      <td>1181</td>\n",
       "      <td>-135</td>\n",
       "    </tr>\n",
       "    <tr>\n",
       "      <th>1197</th>\n",
       "      <td>11342</td>\n",
       "      <td>Koča na Uskovnici</td>\n",
       "      <td>1154</td>\n",
       "      <td>Rudno polje</td>\n",
       "      <td>3000</td>\n",
       "      <td>lahka označena pot</td>\n",
       "      <td>NaN</td>\n",
       "      <td>1347</td>\n",
       "      <td>-193</td>\n",
       "    </tr>\n",
       "  </tbody>\n",
       "</table>\n",
       "<p>3210 rows × 9 columns</p>\n",
       "</div>"
      ],
      "text/plain": [
       "          id                   ime  visina                   izhodisce   cas  \\\n",
       "25       111               Triglav    2864                 Srednja vas   465   \n",
       "18       111               Triglav    2864                Stara Fužina   465   \n",
       "21       111               Triglav    2864                Stara Fužina   450   \n",
       "19       111               Triglav    2864                    Zadnjica   435   \n",
       "14       111               Triglav    2864                    Zadnjica   435   \n",
       "...      ...                   ...     ...                         ...   ...   \n",
       "1316  112439         Gogalova lipa     725             Kosmačev preval  1800   \n",
       "1055  111899  Planina Zadnji Vogel    1413             Ski hotel Vogel  1800   \n",
       "1835  211498                 Ajdna    1046  Valvasorjev dom pod Stolom  2700   \n",
       "1839  211498                 Ajdna    1046  Valvasorjev dom pod Stolom  2400   \n",
       "1197   11342     Koča na Uskovnici    1154                 Rudno polje  3000   \n",
       "\n",
       "                      zahtevnost                                   pot  \\\n",
       "25    zelo zahtevna označena pot  Za Ribnico in čez Triglavsko škrbino   \n",
       "18    zelo zahtevna označena pot           čez Planiko in Mali Triglav   \n",
       "21    zelo zahtevna označena pot     čez Planiko in Triglavsko škrbino   \n",
       "19    zelo zahtevna označena pot                             čez Komar   \n",
       "14    zelo zahtevna označena pot                         čez Plemenice   \n",
       "...                          ...                                   ...   \n",
       "1316          lahka označena pot                                   NaN   \n",
       "1055          lahka označena pot                                   NaN   \n",
       "1835          lahka označena pot                             lahka pot   \n",
       "1839       zahtevna označena pot                          plezalna pot   \n",
       "1197          lahka označena pot                                   NaN   \n",
       "\n",
       "      visinaizhodisca  visinskarazlika  \n",
       "25                583             2281  \n",
       "18                600             2264  \n",
       "21                600             2264  \n",
       "19                650             2214  \n",
       "14                650             2214  \n",
       "...               ...              ...  \n",
       "1316              847             -122  \n",
       "1055             1540             -127  \n",
       "1835             1181             -135  \n",
       "1839             1181             -135  \n",
       "1197             1347             -193  \n",
       "\n",
       "[3210 rows x 9 columns]"
      ]
     },
     "execution_count": 22,
     "metadata": {},
     "output_type": "execute_result"
    }
   ],
   "source": [
    "alpe_z_manj_podatki = alpe_z_izhodisci[['id', 'ime', 'visina', 'izhodisce', 'cas', 'zahtevnost', 'pot', 'visinaizhodisca', 'visinskarazlika']]\n",
    "alpe_z_padajocimi_visinskimi_razlikami = alpe_z_manj_podatki.sort_values('visinskarazlika', ascending=False)\n",
    "alpe_z_padajocimi_visinskimi_razlikami"
   ]
  },
  {
   "cell_type": "code",
   "execution_count": 23,
   "metadata": {},
   "outputs": [
    {
     "data": {
      "text/plain": [
       "43"
      ]
     },
     "execution_count": 23,
     "metadata": {},
     "output_type": "execute_result"
    }
   ],
   "source": [
    "stevilo_lokacij_z_visjim_izhodiscem = (alpe_z_izhodisci.visinskarazlika < 0).sum()\n",
    "stevilo_lokacij_z_visjim_izhodiscem # število lokacij, ki so nižje od izhodišča"
   ]
  },
  {
   "attachments": {},
   "cell_type": "markdown",
   "metadata": {},
   "source": [
    "Kako pa je višinske razlika povezana s časom?"
   ]
  },
  {
   "cell_type": "code",
   "execution_count": 24,
   "metadata": {},
   "outputs": [
    {
     "data": {
      "text/plain": [
       "<AxesSubplot: title={'center': 'odvisnost časa od višinske razlike'}, xlabel='visinskarazlika', ylabel='cas'>"
      ]
     },
     "execution_count": 24,
     "metadata": {},
     "output_type": "execute_result"
    },
    {
     "data": {
      "image/png": "[encoded data removed]",
      "text/plain": [
       "<Figure size 640x480 with 1 Axes>"
      ]
     },
     "metadata": {},
     "output_type": "display_data"
    }
   ],
   "source": [
    "izhodisca.plot.scatter(x='visinskarazlika', y='cas', title='odvisnost časa od višinske razlike')\n",
    "# za male višinske razlike gre lahko za dooolge ravninske pohode, zato v naslednjem grafu izločimo višinske razlike < 450 m"
   ]
  },
  {
   "cell_type": "code",
   "execution_count": 25,
   "metadata": {},
   "outputs": [
    {
     "data": {
      "text/plain": [
       "<AxesSubplot: title={'center': 'odvisnost časa od višinske razlike'}, xlabel='visinskarazlika', ylabel='cas'>"
      ]
     },
     "execution_count": 25,
     "metadata": {},
     "output_type": "execute_result"
    },
    {
     "data": {
      "image/png": "[encoded data removed]",
      "text/plain": [
       "<Figure size 640x480 with 1 Axes>"
      ]
     },
     "metadata": {},
     "output_type": "display_data"
    }
   ],
   "source": [
    "izhodisca[izhodisca.visinskarazlika > 450].plot.scatter(x='visinskarazlika', y='cas', title='odvisnost časa od višinske razlike')"
   ]
  },
  {
   "attachments": {},
   "cell_type": "markdown",
   "metadata": {},
   "source": [
    "Izgleda precej linearno, tako da **hipoteza potrjena** ... Zdaj nas zanima tista osamela točka - katera gora ima tako daljšo pot in koliko je dolga?"
   ]
  },
  {
   "cell_type": "code",
   "execution_count": 26,
   "metadata": {},
   "outputs": [
    {
     "data": {
      "text/html": [
       "<div>\n",
       "<style scoped>\n",
       "    .dataframe tbody tr th:only-of-type {\n",
       "        vertical-align: middle;\n",
       "    }\n",
       "\n",
       "    .dataframe tbody tr th {\n",
       "        vertical-align: top;\n",
       "    }\n",
       "\n",
       "    .dataframe thead th {\n",
       "        text-align: right;\n",
       "    }\n",
       "</style>\n",
       "<table border=\"1\" class=\"dataframe\">\n",
       "  <thead>\n",
       "    <tr style=\"text-align: right;\">\n",
       "      <th></th>\n",
       "      <th>id</th>\n",
       "      <th>ime</th>\n",
       "      <th>gorovje</th>\n",
       "      <th>visina</th>\n",
       "      <th>priljubljenost</th>\n",
       "      <th>koordinate</th>\n",
       "      <th>izhodisce</th>\n",
       "      <th>cas</th>\n",
       "      <th>zahtevnost</th>\n",
       "      <th>pot</th>\n",
       "      <th>visinaizhodisca</th>\n",
       "      <th>visinskarazlika</th>\n",
       "    </tr>\n",
       "  </thead>\n",
       "  <tbody>\n",
       "    <tr>\n",
       "      <th>30</th>\n",
       "      <td>112</td>\n",
       "      <td>Škrlatica</td>\n",
       "      <td>Julijske Alpe</td>\n",
       "      <td>2740</td>\n",
       "      <td>99</td>\n",
       "      <td>46,43277°N 13,82114°E</td>\n",
       "      <td>Gozd Martuljek</td>\n",
       "      <td>870</td>\n",
       "      <td>alpinistični vzpon</td>\n",
       "      <td>grebensko prečenje Mali Oltar-Škrlatica</td>\n",
       "      <td>750</td>\n",
       "      <td>1990</td>\n",
       "    </tr>\n",
       "  </tbody>\n",
       "</table>\n",
       "</div>"
      ],
      "text/plain": [
       "     id        ime        gorovje  visina  priljubljenost  \\\n",
       "30  112  Škrlatica  Julijske Alpe    2740              99   \n",
       "\n",
       "               koordinate       izhodisce  cas          zahtevnost  \\\n",
       "30  46,43277°N 13,82114°E  Gozd Martuljek  870  alpinistični vzpon   \n",
       "\n",
       "                                        pot  visinaizhodisca  visinskarazlika  \n",
       "30  grebensko prečenje Mali Oltar-Škrlatica              750             1990  "
      ]
     },
     "execution_count": 26,
     "metadata": {},
     "output_type": "execute_result"
    }
   ],
   "source": [
    "alpe_z_izhodisci[(alpe_z_izhodisci.cas > 800) & (alpe_z_izhodisci.cas < 900)]"
   ]
  },
  {
   "attachments": {},
   "cell_type": "markdown",
   "metadata": {},
   "source": [
    "Osebno zanimanje - iz doline Krme smo na Triglav potrebovali 4h in 20 min = 260 min. Koliko časa pa piše na spletni strani, da se potrebuje za to pot?"
   ]
  },
  {
   "cell_type": "code",
   "execution_count": 27,
   "metadata": {},
   "outputs": [
    {
     "data": {
      "text/html": [
       "<div>\n",
       "<style scoped>\n",
       "    .dataframe tbody tr th:only-of-type {\n",
       "        vertical-align: middle;\n",
       "    }\n",
       "\n",
       "    .dataframe tbody tr th {\n",
       "        vertical-align: top;\n",
       "    }\n",
       "\n",
       "    .dataframe thead th {\n",
       "        text-align: right;\n",
       "    }\n",
       "</style>\n",
       "<table border=\"1\" class=\"dataframe\">\n",
       "  <thead>\n",
       "    <tr style=\"text-align: right;\">\n",
       "      <th></th>\n",
       "      <th>id</th>\n",
       "      <th>ime</th>\n",
       "      <th>gorovje</th>\n",
       "      <th>visina</th>\n",
       "      <th>priljubljenost</th>\n",
       "      <th>koordinate</th>\n",
       "      <th>izhodisce</th>\n",
       "      <th>cas</th>\n",
       "      <th>zahtevnost</th>\n",
       "      <th>pot</th>\n",
       "      <th>visinaizhodisca</th>\n",
       "      <th>visinskarazlika</th>\n",
       "    </tr>\n",
       "  </thead>\n",
       "  <tbody>\n",
       "    <tr>\n",
       "      <th>2</th>\n",
       "      <td>111</td>\n",
       "      <td>Triglav</td>\n",
       "      <td>Julijske Alpe</td>\n",
       "      <td>2864</td>\n",
       "      <td>100</td>\n",
       "      <td>46,37832°N 13,83648°E</td>\n",
       "      <td>Dolina Krma</td>\n",
       "      <td>370</td>\n",
       "      <td>zelo zahtevna označena pot</td>\n",
       "      <td>čez Kredarico</td>\n",
       "      <td>930</td>\n",
       "      <td>1934</td>\n",
       "    </tr>\n",
       "    <tr>\n",
       "      <th>5</th>\n",
       "      <td>111</td>\n",
       "      <td>Triglav</td>\n",
       "      <td>Julijske Alpe</td>\n",
       "      <td>2864</td>\n",
       "      <td>100</td>\n",
       "      <td>46,37832°N 13,83648°E</td>\n",
       "      <td>Dolina Krma</td>\n",
       "      <td>360</td>\n",
       "      <td>zelo zahtevna označena pot</td>\n",
       "      <td>čez Planiko in Mali Triglav</td>\n",
       "      <td>930</td>\n",
       "      <td>1934</td>\n",
       "    </tr>\n",
       "    <tr>\n",
       "      <th>13</th>\n",
       "      <td>111</td>\n",
       "      <td>Triglav</td>\n",
       "      <td>Julijske Alpe</td>\n",
       "      <td>2864</td>\n",
       "      <td>100</td>\n",
       "      <td>46,37832°N 13,83648°E</td>\n",
       "      <td>Dolina Krma</td>\n",
       "      <td>345</td>\n",
       "      <td>zelo zahtevna označena pot</td>\n",
       "      <td>čez Planiko in Triglavsko škrbino</td>\n",
       "      <td>930</td>\n",
       "      <td>1934</td>\n",
       "    </tr>\n",
       "  </tbody>\n",
       "</table>\n",
       "</div>"
      ],
      "text/plain": [
       "     id      ime        gorovje  visina  priljubljenost  \\\n",
       "2   111  Triglav  Julijske Alpe    2864             100   \n",
       "5   111  Triglav  Julijske Alpe    2864             100   \n",
       "13  111  Triglav  Julijske Alpe    2864             100   \n",
       "\n",
       "               koordinate    izhodisce  cas                  zahtevnost  \\\n",
       "2   46,37832°N 13,83648°E  Dolina Krma  370  zelo zahtevna označena pot   \n",
       "5   46,37832°N 13,83648°E  Dolina Krma  360  zelo zahtevna označena pot   \n",
       "13  46,37832°N 13,83648°E  Dolina Krma  345  zelo zahtevna označena pot   \n",
       "\n",
       "                                  pot  visinaizhodisca  visinskarazlika  \n",
       "2                       čez Kredarico              930             1934  \n",
       "5         čez Planiko in Mali Triglav              930             1934  \n",
       "13  čez Planiko in Triglavsko škrbino              930             1934  "
      ]
     },
     "execution_count": 27,
     "metadata": {},
     "output_type": "execute_result"
    }
   ],
   "source": [
    "alpe_z_izhodisci[(alpe_z_izhodisci.ime == 'Triglav') & (alpe_z_izhodisci.izhodisce == 'Dolina Krma')]"
   ]
  },
  {
   "attachments": {},
   "cell_type": "markdown",
   "metadata": {},
   "source": [
    "Mi smo za pot čez Planiko in Triglavsko škrbino potrebovali 260 min, tu pa piše 1h 25 minut več:)"
   ]
  },
  {
   "attachments": {},
   "cell_type": "markdown",
   "metadata": {},
   "source": [
    "# VRSTE LOKACIJ"
   ]
  },
  {
   "attachments": {},
   "cell_type": "markdown",
   "metadata": {},
   "source": [
    "#### HIPOTEZA: Vrhov je več kot koč in bivakov skupaj."
   ]
  },
  {
   "attachments": {},
   "cell_type": "markdown",
   "metadata": {},
   "source": [
    "Poglejmo, katere vse vrste končnih lokacij imamo in koliko jih je:"
   ]
  },
  {
   "cell_type": "code",
   "execution_count": 28,
   "metadata": {},
   "outputs": [
    {
     "data": {
      "text/plain": [
       "vrsta\n",
       "bivak       49\n",
       "cerkev      89\n",
       "jezero      34\n",
       "koča       146\n",
       "planina    202\n",
       "sedlo       30\n",
       "slap        43\n",
       "vrh        535\n",
       "dtype: int64"
      ]
     },
     "execution_count": 28,
     "metadata": {},
     "output_type": "execute_result"
    }
   ],
   "source": [
    "vrsta.groupby('vrsta').size()"
   ]
  },
  {
   "cell_type": "code",
   "execution_count": 29,
   "metadata": {},
   "outputs": [
    {
     "data": {
      "text/plain": [
       "True"
      ]
     },
     "execution_count": 29,
     "metadata": {},
     "output_type": "execute_result"
    }
   ],
   "source": [
    "stevilo_vrhov = (vrsta['vrsta'] == 'vrh').sum()\n",
    "stevilo_koc = (vrsta['vrsta'] == 'koča').sum()\n",
    "stevilo_bivakov = (vrsta['vrsta'] == 'bivak').sum()\n",
    "stevilo_vrhov > stevilo_koc + stevilo_bivakov"
   ]
  },
  {
   "attachments": {},
   "cell_type": "markdown",
   "metadata": {},
   "source": [
    "Hipoteza *\"vrhov je več kot koč in bivakov\"* je tako potrjena."
   ]
  },
  {
   "attachments": {},
   "cell_type": "markdown",
   "metadata": {},
   "source": [
    "# LOKACIJA"
   ]
  },
  {
   "attachments": {},
   "cell_type": "markdown",
   "metadata": {},
   "source": [
    "V originalni tabeli so koordinate navedene kot niz. Zdaj jih ločimo na x- in y- koordinate ter jih s plot.scatter prikažemo tudi lokacijsko."
   ]
  },
  {
   "cell_type": "code",
   "execution_count": 30,
   "metadata": {},
   "outputs": [
    {
     "ename": "ValueError",
     "evalue": "invalid literal for int() with base 10: ''",
     "output_type": "error",
     "traceback": [
      "\u001b[1;31m---------------------------------------------------------------------------\u001b[0m",
      "\u001b[1;31mValueError\u001b[0m                                Traceback (most recent call last)",
      "Cell \u001b[1;32mIn [30], line 5\u001b[0m\n\u001b[0;32m      3\u001b[0m \u001b[39mfor\u001b[39;00m xy \u001b[39min\u001b[39;00m alpe\u001b[39m.\u001b[39mkoordinate: \u001b[39m# xy je oblike \"46,37832°N 13,83648°E\"\u001b[39;00m\n\u001b[0;32m      4\u001b[0m     par_xy \u001b[39m=\u001b[39m xy\u001b[39m.\u001b[39msplit() \u001b[39m# [\"46,37832°N\", \"13,83648°E\"]\u001b[39;00m\n\u001b[1;32m----> 5\u001b[0m     x \u001b[39m=\u001b[39m \u001b[39mint\u001b[39;49m(\u001b[39m'\u001b[39;49m\u001b[39m'\u001b[39;49m\u001b[39m.\u001b[39;49mjoin(\u001b[39mfilter\u001b[39;49m(\u001b[39mstr\u001b[39;49m\u001b[39m.\u001b[39;49misdigit, par_xy[\u001b[39m0\u001b[39;49m]))) \u001b[39m# 4637832\u001b[39;00m\n\u001b[0;32m      6\u001b[0m     y \u001b[39m=\u001b[39m \u001b[39mint\u001b[39m(\u001b[39m'\u001b[39m\u001b[39m'\u001b[39m\u001b[39m.\u001b[39mjoin(\u001b[39mfilter\u001b[39m(\u001b[39mstr\u001b[39m\u001b[39m.\u001b[39misdigit, par_xy[\u001b[39m1\u001b[39m]))) \u001b[39m# 1383648\u001b[39;00m\n\u001b[0;32m      7\u001b[0m     x_koordinate\u001b[39m.\u001b[39mappend(x\u001b[39m/\u001b[39m\u001b[39m10\u001b[39m\u001b[39m*\u001b[39m\u001b[39m*\u001b[39m(\u001b[39mlen\u001b[39m(\u001b[39mstr\u001b[39m(x))\u001b[39m-\u001b[39m\u001b[39m2\u001b[39m)) \u001b[39m# doda 46,37832\u001b[39;00m\n",
      "\u001b[1;31mValueError\u001b[0m: invalid literal for int() with base 10: ''"
     ]
    }
   ],
   "source": [
    "x_koordinate = []\n",
    "y_koordinate = []\n",
    "for xy in alpe.koordinate: # xy je oblike \"46,37832°N 13,83648°E\"\n",
    "    par_xy = xy.split() # [\"46,37832°N\", \"13,83648°E\"]\n",
    "    x = int(''.join(filter(str.isdigit, par_xy[0]))) # 4637832\n",
    "    y = int(''.join(filter(str.isdigit, par_xy[1]))) # 1383648\n",
    "    x_koordinate.append(x/10**(len(str(x))-2)) # doda 46,37832\n",
    "    y_koordinate.append(y/10**(len(str(y))-2)) # doda 13,83648\n",
    "locene_koordinate = alpe[['id','ime']].assign(x = x_koordinate, y = y_koordinate)\n",
    "locene_koordinate"
   ]
  },
  {
   "cell_type": "markdown",
   "metadata": {},
   "source": []
  },
  {
   "cell_type": "code",
   "execution_count": null,
   "metadata": {},
   "outputs": [
    {
     "ename": "NameError",
     "evalue": "name 'locene_koordinate' is not defined",
     "output_type": "error",
     "traceback": [
      "\u001b[1;31m---------------------------------------------------------------------------\u001b[0m",
      "\u001b[1;31mNameError\u001b[0m                                 Traceback (most recent call last)",
      "Cell \u001b[1;32mIn [47], line 1\u001b[0m\n\u001b[1;32m----> 1\u001b[0m locene_koordinate\u001b[39m.\u001b[39mplot\u001b[39m.\u001b[39mscatter(x \u001b[39m=\u001b[39m \u001b[39m'\u001b[39m\u001b[39mx\u001b[39m\u001b[39m'\u001b[39m, y \u001b[39m=\u001b[39m \u001b[39m'\u001b[39m\u001b[39my\u001b[39m\u001b[39m'\u001b[39m, title \u001b[39m=\u001b[39m \u001b[39m'\u001b[39m\u001b[39mlokacija vrhov\u001b[39m\u001b[39m'\u001b[39m)\n",
      "\u001b[1;31mNameError\u001b[0m: name 'locene_koordinate' is not defined"
     ]
    }
   ],
   "source": [
    "locene_koordinate.plot.scatter(x = 'x', y = 'y', title = 'lokacija vrhov')"
   ]
  },
  {
   "cell_type": "code",
   "execution_count": null,
   "metadata": {},
   "outputs": [],
   "source": []
  }
 ],
 "metadata": {
  "kernelspec": {
   "display_name": "Python 3.10.7 64-bit",
   "language": "python",
   "name": "python3"
  },
  "language_info": {
   "codemirror_mode": {
    "name": "ipython",
    "version": 3
   },
   "file_extension": ".py",
   "mimetype": "text/x-python",
   "name": "python",
   "nbconvert_exporter": "python",
   "pygments_lexer": "ipython3",
   "version": "3.10.7"
  },
  "orig_nbformat": 4,
  "vscode": {
   "interpreter": {
    "hash": "fb3f3a0588179851734d258eabbae11e67bc382c585d04f642f834084f25dfdf"
   }
  }
 },
 "nbformat": 4,
 "nbformat_minor": 2
}
