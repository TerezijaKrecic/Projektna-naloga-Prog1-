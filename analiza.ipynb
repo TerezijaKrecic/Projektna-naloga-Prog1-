{
 "cells": [
  {
   "cell_type": "markdown",
   "metadata": {},
   "source": [
    "**Analiza podatkov o gorah v slovenskih Alpah (in malo italijanskih)**"
   ]
  },
  {
   "cell_type": "code",
   "execution_count": 9,
   "metadata": {},
   "outputs": [],
   "source": [
    "import pandas as pd"
   ]
  },
  {
   "cell_type": "markdown",
   "metadata": {},
   "source": [
    "Uvozimo vse tri tabele s podatki o gorah:"
   ]
  },
  {
   "cell_type": "code",
   "execution_count": 10,
   "metadata": {},
   "outputs": [],
   "source": [
    "julijske_alpe = pd.read_csv('podatki/julijske_alpe/A_julijske_alpe.csv')\n",
    "karavanke = pd.read_csv('podatki/karavanke/A_karavanke.csv')\n",
    "kamn_sav_alpe = pd.read_csv('podatki/kamn_sav_alpe/A_kamn_sav_alpe.csv')"
   ]
  },
  {
   "cell_type": "markdown",
   "metadata": {},
   "source": [
    "Združimo vse tri tabele v eno samo:"
   ]
  },
  {
   "cell_type": "code",
   "execution_count": 11,
   "metadata": {},
   "outputs": [],
   "source": [
    "alpe = pd.concat([julijske_alpe, karavanke, kamn_sav_alpe], ignore_index=True)"
   ]
  },
  {
   "cell_type": "markdown",
   "metadata": {},
   "source": [
    "Zanimajo nas le gore, ki ležijo v Sloveniji. Poglejmo, kje vse gore ležijo:"
   ]
  },
  {
   "cell_type": "markdown",
   "metadata": {},
   "source": [
    "tukej poiščeš vse možne vrednosti v stolpcu država"
   ]
  },
  {
   "cell_type": "markdown",
   "metadata": {},
   "source": [
    "Od tu naprej analiziramo le slovenske gore, zato ustvarimo novo tabelo brez tujih gora:"
   ]
  },
  {
   "cell_type": "markdown",
   "metadata": {},
   "source": []
  }
 ],
 "metadata": {
  "kernelspec": {
   "display_name": "Python 3.10.7 64-bit",
   "language": "python",
   "name": "python3"
  },
  "language_info": {
   "codemirror_mode": {
    "name": "ipython",
    "version": 3
   },
   "file_extension": ".py",
   "mimetype": "text/x-python",
   "name": "python",
   "nbconvert_exporter": "python",
   "pygments_lexer": "ipython3",
   "version": "3.10.7"
  },
  "orig_nbformat": 4,
  "vscode": {
   "interpreter": {
    "hash": "fb3f3a0588179851734d258eabbae11e67bc382c585d04f642f834084f25dfdf"
   }
  }
 },
 "nbformat": 4,
 "nbformat_minor": 2
}
