{
 "cells": [
  {
   "cell_type": "markdown",
   "metadata": {},
   "source": [
    "**Analiza podatkov o gorah v slovenskih Alpah (in malo italijanskih)**"
   ]
  },
  {
   "cell_type": "code",
   "execution_count": 1,
   "metadata": {},
   "outputs": [],
   "source": [
    "import pandas as pd"
   ]
  },
  {
   "cell_type": "markdown",
   "metadata": {},
   "source": [
    "Uvozimo vse tri tabele s podatki o gorah:"
   ]
  },
  {
   "cell_type": "code",
   "execution_count": 5,
   "metadata": {},
   "outputs": [],
   "source": [
    "julijske_alpe = pd.read_csv('podatki/julijske_alpe/A_julijske_alpe.csv')\n",
    "karavanke = pd.read_csv('podatki/karavanke/A_karavanke.csv')\n",
    "kamn_sav_alpe = pd.read_csv('podatki/kamn_sav_alpe/A_kamn_sav_alpe.csv')"
   ]
  },
  {
   "cell_type": "markdown",
   "metadata": {},
   "source": [
    "Združimo vse tri tabele v eno samo:"
   ]
  },
  {
   "cell_type": "code",
   "execution_count": 6,
   "metadata": {},
   "outputs": [],
   "source": [
    "alpe = pd.concat([julijske_alpe, karavanke, kamn_sav_alpe], ignore_index=True)"
   ]
  },
  {
   "cell_type": "code",
   "execution_count": 7,
   "metadata": {},
   "outputs": [
    {
     "data": {
      "text/html": [
       "<div>\n",
       "<style scoped>\n",
       "    .dataframe tbody tr th:only-of-type {\n",
       "        vertical-align: middle;\n",
       "    }\n",
       "\n",
       "    .dataframe tbody tr th {\n",
       "        vertical-align: top;\n",
       "    }\n",
       "\n",
       "    .dataframe thead th {\n",
       "        text-align: right;\n",
       "    }\n",
       "</style>\n",
       "<table border=\"1\" class=\"dataframe\">\n",
       "  <thead>\n",
       "    <tr style=\"text-align: right;\">\n",
       "      <th></th>\n",
       "      <th>ime</th>\n",
       "      <th>država</th>\n",
       "      <th>gorovje</th>\n",
       "      <th>višina</th>\n",
       "      <th>vrsta</th>\n",
       "      <th>priljubljenost v %</th>\n",
       "      <th>izhodišča in poti</th>\n",
       "      <th>koordinate</th>\n",
       "    </tr>\n",
       "  </thead>\n",
       "  <tbody>\n",
       "    <tr>\n",
       "      <th>0</th>\n",
       "      <td>Triglav</td>\n",
       "      <td>Slovenija</td>\n",
       "      <td>Julijske Alpe</td>\n",
       "      <td>2864</td>\n",
       "      <td>vrh, bivak</td>\n",
       "      <td>100</td>\n",
       "      <td>[{'izhodišče': ' Aljažev dom v Vratih', 'čas':...</td>\n",
       "      <td>46,37832°N 13,83648°E</td>\n",
       "    </tr>\n",
       "    <tr>\n",
       "      <th>1</th>\n",
       "      <td>Montaž / Jôf di Montasio</td>\n",
       "      <td>Italija</td>\n",
       "      <td>Julijske Alpe</td>\n",
       "      <td>2753</td>\n",
       "      <td>vrh</td>\n",
       "      <td>98</td>\n",
       "      <td>[{'izhodišče': 'Pecol', 'čas': '3 h 30 min', '...</td>\n",
       "      <td>46,43577°N 13,43405°E</td>\n",
       "    </tr>\n",
       "    <tr>\n",
       "      <th>2</th>\n",
       "      <td>Škrlatica</td>\n",
       "      <td>Slovenija</td>\n",
       "      <td>Julijske Alpe</td>\n",
       "      <td>2740</td>\n",
       "      <td>vrh</td>\n",
       "      <td>99</td>\n",
       "      <td>[{'izhodišče': 'Aljažev dom v Vratih', 'čas': ...</td>\n",
       "      <td>46,43277°N 13,82114°E</td>\n",
       "    </tr>\n",
       "    <tr>\n",
       "      <th>3</th>\n",
       "      <td>Mali Triglav</td>\n",
       "      <td>Slovenija</td>\n",
       "      <td>Julijske Alpe</td>\n",
       "      <td>2725</td>\n",
       "      <td>vrh</td>\n",
       "      <td>92</td>\n",
       "      <td>[{'izhodišče': ' Aljažev dom v Vratih', 'čas':...</td>\n",
       "      <td>46,37683°N 13,84315°E</td>\n",
       "    </tr>\n",
       "    <tr>\n",
       "      <th>4</th>\n",
       "      <td>Mangart</td>\n",
       "      <td>Italija</td>\n",
       "      <td>Julijske Alpe</td>\n",
       "      <td>2679</td>\n",
       "      <td>vrh</td>\n",
       "      <td>99</td>\n",
       "      <td>[{'izhodišče': 'Mangartsko sedlo', 'čas': '2 h...</td>\n",
       "      <td>46,43948°N 13,65457°E</td>\n",
       "    </tr>\n",
       "    <tr>\n",
       "      <th>...</th>\n",
       "      <td>...</td>\n",
       "      <td>...</td>\n",
       "      <td>...</td>\n",
       "      <td>...</td>\n",
       "      <td>...</td>\n",
       "      <td>...</td>\n",
       "      <td>...</td>\n",
       "      <td>...</td>\n",
       "    </tr>\n",
       "    <tr>\n",
       "      <th>1206</th>\n",
       "      <td>Šobčev bajer</td>\n",
       "      <td>Slovenija</td>\n",
       "      <td>Kamniško Savinjske Alpe</td>\n",
       "      <td>426</td>\n",
       "      <td>jezero</td>\n",
       "      <td>71</td>\n",
       "      <td>[{'izhodišče': 'Bodeški most', 'čas': ' 25 min...</td>\n",
       "      <td>46,3538°N 14,1509°E</td>\n",
       "    </tr>\n",
       "    <tr>\n",
       "      <th>1207</th>\n",
       "      <td>Turistična kmetija Trnovc</td>\n",
       "      <td>Slovenija</td>\n",
       "      <td>Kamniško Savinjske Alpe</td>\n",
       "      <td>412</td>\n",
       "      <td>koča</td>\n",
       "      <td>19</td>\n",
       "      <td>[{'izhodišče': 'Turistična kmetija Trnovc', 'č...</td>\n",
       "      <td>46,3035°N 14,2864°E</td>\n",
       "    </tr>\n",
       "    <tr>\n",
       "      <th>1208</th>\n",
       "      <td>Grad Žovnek</td>\n",
       "      <td>Slovenija</td>\n",
       "      <td>Kamniško Savinjske Alpe</td>\n",
       "      <td>409</td>\n",
       "      <td>vrh</td>\n",
       "      <td>69</td>\n",
       "      <td>[{'izhodišče': 'Žovneško jezero', 'čas': ' 15 ...</td>\n",
       "      <td>46,2763°N 15,0041°E</td>\n",
       "    </tr>\n",
       "    <tr>\n",
       "      <th>1209</th>\n",
       "      <td>Šoštanj</td>\n",
       "      <td>Slovenija</td>\n",
       "      <td>Kamniško Savinjske Alpe</td>\n",
       "      <td>358</td>\n",
       "      <td>NaN</td>\n",
       "      <td>26</td>\n",
       "      <td>[{'izhodišče': 'Ribiška koča Šoštanj', 'čas': ...</td>\n",
       "      <td>46,3774°N 15,0485°E</td>\n",
       "    </tr>\n",
       "    <tr>\n",
       "      <th>1210</th>\n",
       "      <td>Planinski dom Milana Šinkovca</td>\n",
       "      <td>Slovenija</td>\n",
       "      <td>Kamniško Savinjske Alpe</td>\n",
       "      <td>345</td>\n",
       "      <td>koča</td>\n",
       "      <td>31</td>\n",
       "      <td>[{'izhodišče': 'Komenda', 'čas': ' 15 min', 'z...</td>\n",
       "      <td>46,2134°N 14,5399°E</td>\n",
       "    </tr>\n",
       "  </tbody>\n",
       "</table>\n",
       "<p>1211 rows × 8 columns</p>\n",
       "</div>"
      ],
      "text/plain": [
       "                                ime     država                  gorovje  \\\n",
       "0                           Triglav  Slovenija            Julijske Alpe   \n",
       "1          Montaž / Jôf di Montasio    Italija            Julijske Alpe   \n",
       "2                         Škrlatica  Slovenija            Julijske Alpe   \n",
       "3                      Mali Triglav  Slovenija            Julijske Alpe   \n",
       "4                           Mangart    Italija            Julijske Alpe   \n",
       "...                             ...        ...                      ...   \n",
       "1206                   Šobčev bajer  Slovenija  Kamniško Savinjske Alpe   \n",
       "1207      Turistična kmetija Trnovc  Slovenija  Kamniško Savinjske Alpe   \n",
       "1208                    Grad Žovnek  Slovenija  Kamniško Savinjske Alpe   \n",
       "1209                        Šoštanj  Slovenija  Kamniško Savinjske Alpe   \n",
       "1210  Planinski dom Milana Šinkovca  Slovenija  Kamniško Savinjske Alpe   \n",
       "\n",
       "      višina       vrsta  priljubljenost v %  \\\n",
       "0       2864  vrh, bivak                 100   \n",
       "1       2753         vrh                  98   \n",
       "2       2740         vrh                  99   \n",
       "3       2725         vrh                  92   \n",
       "4       2679         vrh                  99   \n",
       "...      ...         ...                 ...   \n",
       "1206     426      jezero                  71   \n",
       "1207     412        koča                  19   \n",
       "1208     409         vrh                  69   \n",
       "1209     358         NaN                  26   \n",
       "1210     345        koča                  31   \n",
       "\n",
       "                                      izhodišča in poti             koordinate  \n",
       "0     [{'izhodišče': ' Aljažev dom v Vratih', 'čas':...  46,37832°N 13,83648°E  \n",
       "1     [{'izhodišče': 'Pecol', 'čas': '3 h 30 min', '...  46,43577°N 13,43405°E  \n",
       "2     [{'izhodišče': 'Aljažev dom v Vratih', 'čas': ...  46,43277°N 13,82114°E  \n",
       "3     [{'izhodišče': ' Aljažev dom v Vratih', 'čas':...  46,37683°N 13,84315°E  \n",
       "4     [{'izhodišče': 'Mangartsko sedlo', 'čas': '2 h...  46,43948°N 13,65457°E  \n",
       "...                                                 ...                    ...  \n",
       "1206  [{'izhodišče': 'Bodeški most', 'čas': ' 25 min...    46,3538°N 14,1509°E  \n",
       "1207  [{'izhodišče': 'Turistična kmetija Trnovc', 'č...    46,3035°N 14,2864°E  \n",
       "1208  [{'izhodišče': 'Žovneško jezero', 'čas': ' 15 ...    46,2763°N 15,0041°E  \n",
       "1209  [{'izhodišče': 'Ribiška koča Šoštanj', 'čas': ...    46,3774°N 15,0485°E  \n",
       "1210  [{'izhodišče': 'Komenda', 'čas': ' 15 min', 'z...    46,2134°N 14,5399°E  \n",
       "\n",
       "[1211 rows x 8 columns]"
      ]
     },
     "execution_count": 7,
     "metadata": {},
     "output_type": "execute_result"
    }
   ],
   "source": [
    "alpe"
   ]
  },
  {
   "cell_type": "markdown",
   "metadata": {},
   "source": [
    "Zanimajo nas le gore, ki ležijo v Sloveniji. Poglejmo, kje vse gore ležijo:"
   ]
  },
  {
   "cell_type": "markdown",
   "metadata": {},
   "source": [
    "tukej poiščeš vse možne vrednosti v stolpcu država"
   ]
  },
  {
   "cell_type": "markdown",
   "metadata": {},
   "source": [
    "Od tu naprej analiziramo le slovenske gore, zato ustvarimo novo tabelo brez tujih gora:"
   ]
  },
  {
   "cell_type": "markdown",
   "metadata": {},
   "source": []
  }
 ],
 "metadata": {
  "kernelspec": {
   "display_name": "Python 3.10.7 64-bit",
   "language": "python",
   "name": "python3"
  },
  "language_info": {
   "codemirror_mode": {
    "name": "ipython",
    "version": 3
   },
   "file_extension": ".py",
   "mimetype": "text/x-python",
   "name": "python",
   "nbconvert_exporter": "python",
   "pygments_lexer": "ipython3",
   "version": "3.10.7"
  },
  "orig_nbformat": 4,
  "vscode": {
   "interpreter": {
    "hash": "fb3f3a0588179851734d258eabbae11e67bc382c585d04f642f834084f25dfdf"
   }
  }
 },
 "nbformat": 4,
 "nbformat_minor": 2
}
